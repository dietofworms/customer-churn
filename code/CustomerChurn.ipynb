{
 "cells": [
  {
   "cell_type": "markdown",
   "metadata": {},
   "source": [
    "# Predicting Telco Customer Churn\n",
    "Churn quantifies the number of customers who have unsubscribed or canceled their service contract. It is expensive for a business to win them back once lost and potentially damaging to the reputation of the organisation if these customers leave unsatisfied and willing to tell others. \n",
    "\n",
    "The method for predicting customer churn is a supervised learning method using data from the past. More specifically, we find customers that have already churned (response) and their characteristics (predictors) before the churn occurred. Using this historical data, we fit a model that finds a relationship between the predictors to the reponse. \n",
    "\n",
    "<br>\n",
    "<center><img src='../img/overview.png'></center>"
   ]
  },
  {
   "cell_type": "code",
   "execution_count": 1,
   "metadata": {},
   "outputs": [],
   "source": [
    "import numpy as np\n",
    "import pandas as pd \n",
    "import matplotlib.pyplot as plt \n",
    "import seaborn as sns\n",
    "import warnings\n",
    "warnings.filterwarnings(\"ignore\")\n",
    "\n",
    "from pylab import rcParams\n",
    "\n",
    "sns.set(style='ticks', color_codes=True)\n",
    "pd.set_option('display.max_columns', None)\n",
    "%matplotlib inline"
   ]
  },
  {
   "cell_type": "markdown",
   "metadata": {},
   "source": [
    "### 1. Exploratory Data Analysis\n",
    "Before we can perform analysis or even clean the data, we need to understand what is going on in the raw dataset. First we will check out the shape and structure of the dataset then we can begin converting the data types of the fields which require it as well as replacing any erroneous data as needed."
   ]
  },
  {
   "cell_type": "code",
   "execution_count": 2,
   "metadata": {},
   "outputs": [
    {
     "name": "stdout",
     "output_type": "stream",
     "text": [
      "customerID           object\n",
      "gender               object\n",
      "SeniorCitizen         int64\n",
      "Partner              object\n",
      "Dependents           object\n",
      "tenure                int64\n",
      "PhoneService         object\n",
      "MultipleLines        object\n",
      "InternetService      object\n",
      "OnlineSecurity       object\n",
      "OnlineBackup         object\n",
      "DeviceProtection     object\n",
      "TechSupport          object\n",
      "StreamingTV          object\n",
      "StreamingMovies      object\n",
      "Contract             object\n",
      "PaperlessBilling     object\n",
      "PaymentMethod        object\n",
      "MonthlyCharges      float64\n",
      "TotalCharges         object\n",
      "Churn                object\n",
      "dtype: object \n",
      "\n",
      "dataframe shape:  (7043, 21) \n",
      "\n"
     ]
    },
    {
     "data": {
      "text/html": [
       "<div>\n",
       "<style scoped>\n",
       "    .dataframe tbody tr th:only-of-type {\n",
       "        vertical-align: middle;\n",
       "    }\n",
       "\n",
       "    .dataframe tbody tr th {\n",
       "        vertical-align: top;\n",
       "    }\n",
       "\n",
       "    .dataframe thead th {\n",
       "        text-align: right;\n",
       "    }\n",
       "</style>\n",
       "<table border=\"1\" class=\"dataframe\">\n",
       "  <thead>\n",
       "    <tr style=\"text-align: right;\">\n",
       "      <th></th>\n",
       "      <th>customerID</th>\n",
       "      <th>gender</th>\n",
       "      <th>SeniorCitizen</th>\n",
       "      <th>Partner</th>\n",
       "      <th>Dependents</th>\n",
       "      <th>tenure</th>\n",
       "      <th>PhoneService</th>\n",
       "      <th>MultipleLines</th>\n",
       "      <th>InternetService</th>\n",
       "      <th>OnlineSecurity</th>\n",
       "      <th>OnlineBackup</th>\n",
       "      <th>DeviceProtection</th>\n",
       "      <th>TechSupport</th>\n",
       "      <th>StreamingTV</th>\n",
       "      <th>StreamingMovies</th>\n",
       "      <th>Contract</th>\n",
       "      <th>PaperlessBilling</th>\n",
       "      <th>PaymentMethod</th>\n",
       "      <th>MonthlyCharges</th>\n",
       "      <th>TotalCharges</th>\n",
       "      <th>Churn</th>\n",
       "    </tr>\n",
       "  </thead>\n",
       "  <tbody>\n",
       "    <tr>\n",
       "      <th>0</th>\n",
       "      <td>7590-VHVEG</td>\n",
       "      <td>Female</td>\n",
       "      <td>0</td>\n",
       "      <td>Yes</td>\n",
       "      <td>No</td>\n",
       "      <td>1</td>\n",
       "      <td>No</td>\n",
       "      <td>No phone service</td>\n",
       "      <td>DSL</td>\n",
       "      <td>No</td>\n",
       "      <td>Yes</td>\n",
       "      <td>No</td>\n",
       "      <td>No</td>\n",
       "      <td>No</td>\n",
       "      <td>No</td>\n",
       "      <td>Month-to-month</td>\n",
       "      <td>Yes</td>\n",
       "      <td>Electronic check</td>\n",
       "      <td>29.85</td>\n",
       "      <td>29.85</td>\n",
       "      <td>No</td>\n",
       "    </tr>\n",
       "    <tr>\n",
       "      <th>1</th>\n",
       "      <td>5575-GNVDE</td>\n",
       "      <td>Male</td>\n",
       "      <td>0</td>\n",
       "      <td>No</td>\n",
       "      <td>No</td>\n",
       "      <td>34</td>\n",
       "      <td>Yes</td>\n",
       "      <td>No</td>\n",
       "      <td>DSL</td>\n",
       "      <td>Yes</td>\n",
       "      <td>No</td>\n",
       "      <td>Yes</td>\n",
       "      <td>No</td>\n",
       "      <td>No</td>\n",
       "      <td>No</td>\n",
       "      <td>One year</td>\n",
       "      <td>No</td>\n",
       "      <td>Mailed check</td>\n",
       "      <td>56.95</td>\n",
       "      <td>1889.5</td>\n",
       "      <td>No</td>\n",
       "    </tr>\n",
       "    <tr>\n",
       "      <th>2</th>\n",
       "      <td>3668-QPYBK</td>\n",
       "      <td>Male</td>\n",
       "      <td>0</td>\n",
       "      <td>No</td>\n",
       "      <td>No</td>\n",
       "      <td>2</td>\n",
       "      <td>Yes</td>\n",
       "      <td>No</td>\n",
       "      <td>DSL</td>\n",
       "      <td>Yes</td>\n",
       "      <td>Yes</td>\n",
       "      <td>No</td>\n",
       "      <td>No</td>\n",
       "      <td>No</td>\n",
       "      <td>No</td>\n",
       "      <td>Month-to-month</td>\n",
       "      <td>Yes</td>\n",
       "      <td>Mailed check</td>\n",
       "      <td>53.85</td>\n",
       "      <td>108.15</td>\n",
       "      <td>Yes</td>\n",
       "    </tr>\n",
       "    <tr>\n",
       "      <th>3</th>\n",
       "      <td>7795-CFOCW</td>\n",
       "      <td>Male</td>\n",
       "      <td>0</td>\n",
       "      <td>No</td>\n",
       "      <td>No</td>\n",
       "      <td>45</td>\n",
       "      <td>No</td>\n",
       "      <td>No phone service</td>\n",
       "      <td>DSL</td>\n",
       "      <td>Yes</td>\n",
       "      <td>No</td>\n",
       "      <td>Yes</td>\n",
       "      <td>Yes</td>\n",
       "      <td>No</td>\n",
       "      <td>No</td>\n",
       "      <td>One year</td>\n",
       "      <td>No</td>\n",
       "      <td>Bank transfer (automatic)</td>\n",
       "      <td>42.30</td>\n",
       "      <td>1840.75</td>\n",
       "      <td>No</td>\n",
       "    </tr>\n",
       "    <tr>\n",
       "      <th>4</th>\n",
       "      <td>9237-HQITU</td>\n",
       "      <td>Female</td>\n",
       "      <td>0</td>\n",
       "      <td>No</td>\n",
       "      <td>No</td>\n",
       "      <td>2</td>\n",
       "      <td>Yes</td>\n",
       "      <td>No</td>\n",
       "      <td>Fiber optic</td>\n",
       "      <td>No</td>\n",
       "      <td>No</td>\n",
       "      <td>No</td>\n",
       "      <td>No</td>\n",
       "      <td>No</td>\n",
       "      <td>No</td>\n",
       "      <td>Month-to-month</td>\n",
       "      <td>Yes</td>\n",
       "      <td>Electronic check</td>\n",
       "      <td>70.70</td>\n",
       "      <td>151.65</td>\n",
       "      <td>Yes</td>\n",
       "    </tr>\n",
       "  </tbody>\n",
       "</table>\n",
       "</div>"
      ],
      "text/plain": [
       "   customerID  gender  SeniorCitizen Partner Dependents  tenure PhoneService  \\\n",
       "0  7590-VHVEG  Female              0     Yes         No       1           No   \n",
       "1  5575-GNVDE    Male              0      No         No      34          Yes   \n",
       "2  3668-QPYBK    Male              0      No         No       2          Yes   \n",
       "3  7795-CFOCW    Male              0      No         No      45           No   \n",
       "4  9237-HQITU  Female              0      No         No       2          Yes   \n",
       "\n",
       "      MultipleLines InternetService OnlineSecurity OnlineBackup  \\\n",
       "0  No phone service             DSL             No          Yes   \n",
       "1                No             DSL            Yes           No   \n",
       "2                No             DSL            Yes          Yes   \n",
       "3  No phone service             DSL            Yes           No   \n",
       "4                No     Fiber optic             No           No   \n",
       "\n",
       "  DeviceProtection TechSupport StreamingTV StreamingMovies        Contract  \\\n",
       "0               No          No          No              No  Month-to-month   \n",
       "1              Yes          No          No              No        One year   \n",
       "2               No          No          No              No  Month-to-month   \n",
       "3              Yes         Yes          No              No        One year   \n",
       "4               No          No          No              No  Month-to-month   \n",
       "\n",
       "  PaperlessBilling              PaymentMethod  MonthlyCharges TotalCharges  \\\n",
       "0              Yes           Electronic check           29.85        29.85   \n",
       "1               No               Mailed check           56.95       1889.5   \n",
       "2              Yes               Mailed check           53.85       108.15   \n",
       "3               No  Bank transfer (automatic)           42.30      1840.75   \n",
       "4              Yes           Electronic check           70.70       151.65   \n",
       "\n",
       "  Churn  \n",
       "0    No  \n",
       "1    No  \n",
       "2   Yes  \n",
       "3    No  \n",
       "4   Yes  "
      ]
     },
     "execution_count": 2,
     "metadata": {},
     "output_type": "execute_result"
    }
   ],
   "source": [
    "# read the csv into pandas dataframe\n",
    "raw_data = pd.read_csv('data/datasets_13996_18858_WA_Fn-UseC_-Telco-Customer-Churn.csv')\n",
    "\n",
    "# see the shape and data types of the dataset\n",
    "print(raw_data.dtypes, '\\n')\n",
    "print('dataframe shape: ', raw_data.shape, '\\n')\n",
    "raw_data.head(5)"
   ]
  },
  {
   "cell_type": "markdown",
   "metadata": {},
   "source": [
    "#### 1.1 Dataset Description\n",
    "In the Telco customer dataset, each row in the dataset represents a single customer and each column describes individual aspects of the service. The final column, `Churn` indicates whether or not the customer ceased their relationship with the business in the last month."
   ]
  },
  {
   "cell_type": "code",
   "execution_count": 3,
   "metadata": {},
   "outputs": [
    {
     "name": "stdout",
     "output_type": "stream",
     "text": [
      "Total customers : 7043 \n",
      "Total churned   : 1869 \n",
      "\n",
      "Churn rate : 26.54%\n"
     ]
    }
   ],
   "source": [
    "df_customers = raw_data\n",
    "\n",
    "# find how many total customers in dataset \n",
    "ncustomers = len(df_customers.index)\n",
    "# find how many churned\n",
    "nchurned = df_customers[df_customers['Churn']=='Yes'].shape[0]\n",
    "\n",
    "print('Total customers : %s \\nTotal churned   : %s \\n' %(ncustomers, nchurned))\n",
    "\n",
    "# find the churn rate\n",
    "churn_rate = float(nchurned) / ncustomers * 100\n",
    "\n",
    "print('Churn rate : {}%'.format(round(churn_rate,2)))"
   ]
  },
  {
   "cell_type": "markdown",
   "metadata": {},
   "source": [
    "#### 1.2. Data cleaning/processing\n",
    "There are a number of columns which use `['Yes','No']` or some other variation that could be represented as integers or enums depending on our development methods. We can either clean data before or after visualising the dataset in the EDA phase. In this case, we will do it before. "
   ]
  },
  {
   "cell_type": "code",
   "execution_count": 4,
   "metadata": {},
   "outputs": [
    {
     "data": {
      "text/plain": [
       "0       7590-VHVEG\n",
       "1       5575-GNVDE\n",
       "2       3668-QPYBK\n",
       "3       7795-CFOCW\n",
       "4       9237-HQITU\n",
       "           ...    \n",
       "7038    6840-RESVB\n",
       "7039    2234-XADUH\n",
       "7040    4801-JZAZL\n",
       "7041    8361-LTMKD\n",
       "7042    3186-AJIEK\n",
       "Name: customerID, Length: 7032, dtype: object"
      ]
     },
     "execution_count": 4,
     "metadata": {},
     "output_type": "execute_result"
    }
   ],
   "source": [
    "# rather than guessing what it could be, we remove rows with erroneous data\n",
    "df_customers = df_customers[df_customers['TotalCharges'] != ' ']\n",
    "\n",
    "# cast data types\n",
    "df_customers.TotalCharges = df_customers.TotalCharges.astype('float')\n",
    "df_customers.SeniorCitizen = df_customers.SeniorCitizen.astype('category')\n",
    "\n",
    "# replacing yes/no/other values to to ints for later use in algorithms\n",
    "df_customers['gender'].replace(['Male','Female'],[0,1],inplace=True)\n",
    "df_customers['Partner'].replace(['Yes','No'],[1,0],inplace=True)\n",
    "df_customers['Dependents'].replace(['Yes','No'],[1,0],inplace=True)\n",
    "df_customers['PhoneService'].replace(['Yes','No'],[1,0],inplace=True)\n",
    "df_customers['MultipleLines'].replace(['Yes','No phone service','No'],[1,0,0],inplace=True)\n",
    "df_customers['InternetService'].replace(['No','DSL','Fiber optic'],[0,1,2],inplace=True)\n",
    "df_customers['OnlineSecurity'].replace(['Yes','No','No internet service'],[1,0,0],inplace=True)\n",
    "df_customers['OnlineBackup'].replace(['Yes','No','No internet service'],[1,0,0],inplace=True)\n",
    "df_customers['DeviceProtection'].replace(['Yes','No','No internet service'],[1,0,0],inplace=True)\n",
    "df_customers['TechSupport'].replace(['Yes','No','No internet service'],[1,0,0],inplace=True)\n",
    "df_customers['StreamingTV'].replace(['Yes','No','No internet service'],[1,0,0],inplace=True)\n",
    "df_customers['StreamingMovies'].replace(['Yes','No','No internet service'],[1,0,0],inplace=True)\n",
    "df_customers['Contract'].replace(['Month-to-month', 'One year', 'Two year'],[0,1,2],inplace=True)\n",
    "df_customers['PaperlessBilling'].replace(['Yes','No'],[1,0],inplace=True)\n",
    "df_customers['PaymentMethod'].replace(['Electronic check','Mailed check','Bank transfer (automatic)',\n",
    "                                       'Credit card (automatic)'],[0,1,2,3],inplace=True)\n",
    "df_customers['Churn'].replace(['Yes','No'],[1,0],inplace=True)\n",
    "\n",
    "# remove unecessary field\n",
    "df_customers.pop('customerID')"
   ]
  },
  {
   "cell_type": "markdown",
   "metadata": {},
   "source": [
    "#### 1.3 Visual Descriptive Analysis\n",
    "Now that we know what is in the dataset as well as some rough numbers regarding the rate of churn, it is time to look at other variables to see what we can learn. Throughout the notebook, <b><font color='blue'>blue</font></b> is used for loyal customers and <b><font color='red'>red</font></b> will represent disloyal customers."
   ]
  },
  {
   "cell_type": "code",
   "execution_count": 7,
   "metadata": {},
   "outputs": [],
   "source": [
    "loyal_customers = df_customers[df_customers['Churn'] == 0]\n",
    "disloyal_customers = df_customers[df_customers['Churn'] == 1]"
   ]
  },
  {
   "cell_type": "code",
   "execution_count": 8,
   "metadata": {},
   "outputs": [
    {
     "data": {
      "image/png": "[encoded data removed]",
      "text/plain": [
       "<Figure size 1080x360 with 6 Axes>"
      ]
     },
     "metadata": {
      "needs_background": "light"
     },
     "output_type": "display_data"
    }
   ],
   "source": [
    "dims = (15, 5)\n",
    "fig, ax = plt.subplots(2,3,figsize=dims)\n",
    "plt.suptitle('Histograms of charges and tenure between loyal (first row) and disloyal customers (second row)')\n",
    "\n",
    "# loyal customers\n",
    "sns.distplot(loyal_customers.MonthlyCharges, ax=ax[0, 0])\n",
    "sns.distplot(loyal_customers.TotalCharges, ax=ax[0, 1])\n",
    "sns.distplot(loyal_customers.tenure, ax=ax[0,2])\n",
    "\n",
    "# disloyal customers\n",
    "sns.distplot(disloyal_customers.MonthlyCharges, ax=ax[1, 0], color='red')\n",
    "sns.distplot(disloyal_customers.TotalCharges, ax=ax[1, 1], color='red')\n",
    "sns.distplot(disloyal_customers.tenure, ax=ax[1,2], color='red')\n",
    "\n",
    "plt.savefig('charges_and_tenure.jpg')"
   ]
  },
  {
   "cell_type": "markdown",
   "metadata": {},
   "source": [
    "The above plots tell a story. We observe the first set of charts for `MonthlyCharges` that for loyal customers, a large segment pay between `$20 - $25` per month whereas disloyal customers pay `$75 - $110`. This indicates that cheaper monthly charges are a potential deciding factor in whether or not a customer remains with the company.\n",
    "\n",
    "In the case of `TotalCharges`, we see heavily skewed results with most customers in both groups having paid almost no charges.\n",
    "\n",
    "For `tenure`, we observe that the sum of both groups indicate that most customers leave early. In the loyal customer group, there is a large bin of persons who remain with the company for around 70 years.\n",
    "\n",
    "Now we should get some exact numbers on the `max()` and `min()` of each group."
   ]
  },
  {
   "cell_type": "code",
   "execution_count": 15,
   "metadata": {},
   "outputs": [
    {
     "name": "stdout",
     "output_type": "stream",
     "text": [
      "Max monthly charges: 118.75 \n",
      "Min monthly charges : 18.25 \n",
      "\n",
      "Max total charges: 8684.8 \n",
      "Min total charges : 18.8 \n",
      "\n",
      "Max tenure: 72 \n",
      "Min tenure : 1\n"
     ]
    }
   ],
   "source": [
    "# MonthlyCharges\n",
    "max_month_charges = df_customers['MonthlyCharges'].max()\n",
    "min_month_charges = df_customers['MonthlyCharges'].min()\n",
    "\n",
    "# TotalCharges\n",
    "max_total_charges = df_customers['TotalCharges'].max()\n",
    "min_total_charges = df_customers['TotalCharges'].min()\n",
    "\n",
    "# tenure\n",
    "max_tenure = df_customers['tenure'].max()\n",
    "min_tenure = df_customers['tenure'].min()\n",
    "\n",
    "print('Max monthly charges: %s \\nMin monthly charges : %s \\n' %(max_month_charges, min_month_charges))\n",
    "print('Max total charges: %s \\nMin total charges : %s \\n' %(max_total_charges, min_total_charges))\n",
    "print('Max tenure: %s \\nMin tenure : %s' %(max_tenure, min_tenure))"
   ]
  },
  {
   "cell_type": "code",
   "execution_count": null,
   "metadata": {},
   "outputs": [],
   "source": []
  }
 ],
 "metadata": {
  "kernelspec": {
   "display_name": "Python 3",
   "language": "python",
   "name": "python3"
  },
  "language_info": {
   "codemirror_mode": {
    "name": "ipython",
    "version": 3
   },
   "file_extension": ".py",
   "mimetype": "text/x-python",
   "name": "python",
   "nbconvert_exporter": "python",
   "pygments_lexer": "ipython3",
   "version": "3.8.3"
  }
 },
 "nbformat": 4,
 "nbformat_minor": 4
}
